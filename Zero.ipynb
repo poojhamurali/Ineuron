{
  "cells": [
    {
      "cell_type": "markdown",
      "id": "e9b26677",
      "metadata": {
        "id": "e9b26677"
      },
      "source": [
        "Given an integer array nums, move all 0's to the end of it while maintaining the relative order of the non-zero elements.\n",
        "\n",
        "Note that you must do this in-place without making a copy of the array.\n",
        "\n",
        "Example 1:\n",
        "Input: nums = [0,1,0,3,12]\n",
        "Output: [1,3,12,0,0]\n",
        "\n",
        "Example 2:\n",
        "Input: nums = [0]\n",
        "Output: [0]\n",
        "\n",
        "Constraints:\n",
        "a. 1 <= nums.length <= 10^4\n",
        "b. -2^31 <= nums[i] <= 2^31 - 1\n",
        "\n",
        "Note: Create a GitHub file for the solution and add the file link the the answer section below"
      ]
    },
    {
      "cell_type": "code",
      "execution_count": 1,
      "id": "e659e6c8",
      "metadata": {
        "id": "e659e6c8"
      },
      "outputs": [],
      "source": [
        "def sample(n):\n",
        "    zeros = 0  \n",
        "    \n",
        "    for i in range(len(n)):\n",
        "        if n[i] == 0:\n",
        "            zeros += 1\n",
        "        else:\n",
        "            n[i - zeros] = n[i]\n",
        "            \n",
        "    for i in range(len(n) - zeros, len(n)):\n",
        "        n[i] = 0"
      ]
    },
    {
      "cell_type": "code",
      "execution_count": 3,
      "id": "b510c6dc",
      "metadata": {
        "colab": {
          "base_uri": "https://localhost:8080/"
        },
        "id": "b510c6dc",
        "outputId": "64e02d18-444c-41f8-cdaa-8af1a136ce82"
      },
      "outputs": [
        {
          "output_type": "stream",
          "name": "stdout",
          "text": [
            "[3, 4, 66, 77, 0, 0]\n"
          ]
        }
      ],
      "source": [
        "n = [3,0,4,0,66,77]\n",
        "sample(n)\n",
        "print(n)"
      ]
    },
    {
      "cell_type": "code",
      "execution_count": null,
      "id": "29f198b9",
      "metadata": {
        "id": "29f198b9"
      },
      "outputs": [],
      "source": []
    }
  ],
  "metadata": {
    "kernelspec": {
      "display_name": "Python 3 (ipykernel)",
      "language": "python",
      "name": "python3"
    },
    "language_info": {
      "codemirror_mode": {
        "name": "ipython",
        "version": 3
      },
      "file_extension": ".py",
      "mimetype": "text/x-python",
      "name": "python",
      "nbconvert_exporter": "python",
      "pygments_lexer": "ipython3",
      "version": "3.10.9"
    },
    "colab": {
      "provenance": []
    }
  },
  "nbformat": 4,
  "nbformat_minor": 5
}