{
  "cells": [
    {
      "cell_type": "markdown",
      "id": "37f839c2",
      "metadata": {
        "id": "37f839c2"
      },
      "source": [
        "Given a string s, find the first non-repeating character in it and return its index. If it does not exist, return -1.\n",
        "\n",
        "Example 1:\n",
        "Input: s = \"leetcode\"\n",
        "Output: 0\n",
        "\n",
        "Example 2:\n",
        "Input: s = \"loveleetcode\"\n",
        "Output: 2\n",
        "\n",
        "Example 3:\n",
        "Input: s = \"aabb\"\n",
        "Output: -1\n",
        "\n",
        "Constraints:\n",
        "a. 1 <= s.length <= 10^5\n",
        "b. s consists of only lowercase English letters."
      ]
    },
    {
      "cell_type": "code",
      "execution_count": 1,
      "id": "a124ce6a",
      "metadata": {
        "id": "a124ce6a"
      },
      "outputs": [],
      "source": [
        "def sample(st):\n",
        "    charcount = [0] * 26\n",
        "    for char in st:\n",
        "        charcount[ord(char) - ord('a')] += 1\n",
        "    \n",
        "    for i, char in enumerate(s):\n",
        "        if charcount[ord(char) - ord('a')] == 1:\n",
        "            return i\n",
        "    \n",
        "    return -1"
      ]
    },
    {
      "cell_type": "code",
      "execution_count": 9,
      "id": "360b5731",
      "metadata": {
        "colab": {
          "base_uri": "https://localhost:8080/"
        },
        "id": "360b5731",
        "outputId": "eb2c6f00-f264-4791-fa58-04de09ed8513"
      },
      "outputs": [
        {
          "output_type": "stream",
          "name": "stdout",
          "text": [
            "-1\n"
          ]
        }
      ],
      "source": [
        "st = \"leetcode\"\n",
        "print(sample(st))"
      ]
    },
    {
      "cell_type": "code",
      "execution_count": 8,
      "id": "8b0dd555",
      "metadata": {
        "colab": {
          "base_uri": "https://localhost:8080/"
        },
        "id": "8b0dd555",
        "outputId": "77662e5e-46ce-469f-8a1c-f0332cfae79b"
      },
      "outputs": [
        {
          "output_type": "stream",
          "name": "stdout",
          "text": [
            "-1\n"
          ]
        }
      ],
      "source": [
        "st = \"loveleetcode\"\n",
        "print(sample(st))"
      ]
    },
    {
      "cell_type": "code",
      "execution_count": 6,
      "id": "aceb9879",
      "metadata": {
        "colab": {
          "base_uri": "https://localhost:8080/"
        },
        "id": "aceb9879",
        "outputId": "97f80eda-cd82-4459-b802-87157aaeeec2"
      },
      "outputs": [
        {
          "output_type": "stream",
          "name": "stdout",
          "text": [
            "-1\n"
          ]
        }
      ],
      "source": [
        "s = \"aabb\"\n",
        "print(sample(s))"
      ]
    },
    {
      "cell_type": "code",
      "execution_count": null,
      "id": "7db8d0a4",
      "metadata": {
        "id": "7db8d0a4"
      },
      "outputs": [],
      "source": []
    }
  ],
  "metadata": {
    "kernelspec": {
      "display_name": "Python 3 (ipykernel)",
      "language": "python",
      "name": "python3"
    },
    "language_info": {
      "codemirror_mode": {
        "name": "ipython",
        "version": 3
      },
      "file_extension": ".py",
      "mimetype": "text/x-python",
      "name": "python",
      "nbconvert_exporter": "python",
      "pygments_lexer": "ipython3",
      "version": "3.10.9"
    },
    "colab": {
      "provenance": []
    }
  },
  "nbformat": 4,
  "nbformat_minor": 5
}