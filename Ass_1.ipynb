{
  "cells": [
    {
      "cell_type": "markdown",
      "id": "f04cbc2b",
      "metadata": {
        "id": "f04cbc2b"
      },
      "source": [
        "**Q1.** Given an array of integers nums and an integer target, return indices of the two numbers such that they add up to target.\n",
        "\n",
        "You may assume that each input would have exactly one solution, and you may not use the same element twice.\n",
        "\n",
        "You can return the answer in any order.\n",
        "\n",
        "**Example:**\n",
        "Input: nums = [2,7,11,15], target = 9\n",
        "Output0 [0,1]\n",
        "\n",
        "**Explanation:** Because nums[0] + nums[1] == 9, we return [0, 1]"
      ]
    },
    {
      "cell_type": "code",
      "execution_count": null,
      "id": "5bcb9386",
      "metadata": {
        "id": "5bcb9386",
        "outputId": "38eda5f7-1d0c-49a3-e954-6d8f67226a55"
      },
      "outputs": [
        {
          "name": "stdout",
          "output_type": "stream",
          "text": [
            "[0, 1]\n"
          ]
        }
      ],
      "source": [
        "def twoSum(nums, target):\n",
        "    num_dict = {}  \n",
        "\n",
        "    for i, num in enumerate(nums):\n",
        "        complement = target - num\n",
        "        if complement in num_dict:\n",
        "            return [num_dict[complement], i]\n",
        "        num_dict[num] = i\n",
        "\n",
        "    return []  \n",
        "\n",
        "\n",
        "nums = [2, 7, 11, 15]\n",
        "target = 9\n",
        "result = twoSum(nums, target)\n",
        "print(result) "
      ]
    },
    {
      "cell_type": "markdown",
      "id": "50c0414e",
      "metadata": {
        "id": "50c0414e"
      },
      "source": [
        "**Q2.** Given an integer array nums and an integer val, remove all occurrences of val in nums in-place. The order of the elements may be changed. Then return the number of elements in nums which are not equal to val.\n",
        "\n",
        "Consider the number of elements in nums which are not equal to val be k, to get accepted, you need to do the following things:\n",
        "\n",
        "- Change the array nums such that the first k elements of nums contain the elements which are not equal to val. The remaining elements of nums are not important as well as the size of nums.\n",
        "- Return k.\n",
        "\n",
        "**Example :**\n",
        "Input: nums = [3,2,2,3], val = 3\n",
        "Output: 2, nums = [2,2,_*,_*]\n",
        "\n",
        "**Explanation:** Your function should return k = 2, with the first two elements of nums being 2. It does not matter what you leave beyond the returned k (hence they are underscores)[\n"
      ]
    },
    {
      "cell_type": "code",
      "execution_count": null,
      "id": "2343545b",
      "metadata": {
        "id": "2343545b",
        "outputId": "184268cb-6b02-49b1-d583-0814a2aec880"
      },
      "outputs": [
        {
          "name": "stdout",
          "output_type": "stream",
          "text": [
            "Number of elements not equal to val: 2\n",
            "Modified nums array: [2, 2]\n"
          ]
        }
      ],
      "source": [
        "def removeElement(nums, val):\n",
        "    i = 0\n",
        "    j = 0\n",
        "\n",
        "    while i < len(nums):\n",
        "        if nums[i] == val:\n",
        "            i += 1\n",
        "        else:\n",
        "            nums[j] = nums[i]\n",
        "            i += 1\n",
        "            j += 1\n",
        "\n",
        "    return j\n",
        "nums = [3, 2, 2, 3]\n",
        "val = 3\n",
        "k = removeElement(nums, val)\n",
        "print(\"Number of elements not equal to val:\", k)\n",
        "print(\"Modified nums array:\", nums[:k])"
      ]
    },
    {
      "cell_type": "markdown",
      "id": "5e39a64e",
      "metadata": {
        "id": "5e39a64e"
      },
      "source": [
        "\n",
        " **Q3.** Given a sorted array of distinct integers and a target value, return the index if the target is found. If not, return the index where it would be if it were inserted in order.\n",
        "\n",
        "You must write an algorithm with O(log n) runtime complexity.\n",
        "\n",
        "**Example 1:**\n",
        "Input: nums = [1,3,5,6], target = 5\n",
        "\n",
        "Output: 2\n",
        "\n"
      ]
    },
    {
      "cell_type": "code",
      "execution_count": null,
      "id": "68e51a65",
      "metadata": {
        "id": "68e51a65",
        "outputId": "6de7580f-6a50-4aa8-a815-c5cf12967407"
      },
      "outputs": [
        {
          "name": "stdout",
          "output_type": "stream",
          "text": [
            "Index: 2\n"
          ]
        }
      ],
      "source": [
        "def searchInsert(nums, target):\n",
        "    left = 0\n",
        "    right = len(nums) - 1\n",
        "\n",
        "    while left <= right:\n",
        "        mid = left + (right - left) // 2\n",
        "\n",
        "        if nums[mid] == target:\n",
        "            return mid\n",
        "        elif nums[mid] < target:\n",
        "            left = mid + 1\n",
        "        else:\n",
        "            right = mid - 1\n",
        "\n",
        "    return left\n",
        "\n",
        "\n",
        "nums = [1, 3, 5, 6]\n",
        "target = 5\n",
        "index = searchInsert(nums, target)\n",
        "print(\"Index:\", index)"
      ]
    },
    {
      "cell_type": "markdown",
      "id": "10f9d2c6",
      "metadata": {
        "id": "10f9d2c6"
      },
      "source": [
        "\n",
        " **Q4.** You are given a large integer represented as an integer array digits, where each digits[i] is the ith digit of the integer. The digits are ordered from most significant to least significant in left-to-right order. The large integer does not contain any leading 0's.\n",
        "\n",
        "Increment the large integer by one and return the resulting array of digits.\n",
        "\n",
        "**Example 1:**\n",
        "Input: digits = [1,2,3]\n",
        "Output: [1,2,4]\n",
        "\n",
        "**Explanation:** The array represents the integer 123.\n",
        "\n",
        "Incrementing by one gives 123 + 1 = 124.\n",
        "Thus, the result should be [1,2,4].\n",
        "\n"
      ]
    },
    {
      "cell_type": "code",
      "execution_count": null,
      "id": "ee2976cc",
      "metadata": {
        "id": "ee2976cc",
        "outputId": "649e3622-a8f8-440b-fdd0-157ab732c558"
      },
      "outputs": [
        {
          "name": "stdout",
          "output_type": "stream",
          "text": [
            "Result: [1, 2, 4]\n"
          ]
        }
      ],
      "source": [
        "def plusOne(digits):\n",
        "    carry = 1  \n",
        "\n",
        "    for i in range(len(digits) - 1, -1, -1):\n",
        "        sum = digits[i] + carry\n",
        "        digits[i] = sum % 10\n",
        "        carry = sum // 10\n",
        "\n",
        "    if carry > 0:\n",
        "        digits.insert(0, carry)\n",
        "\n",
        "    return digits\n",
        "\n",
        "\n",
        "digits = [1, 2, 3]\n",
        "result = plusOne(digits)\n",
        "print(\"Result:\", result)"
      ]
    },
    {
      "cell_type": "markdown",
      "id": "19229787",
      "metadata": {
        "id": "19229787"
      },
      "source": [
        " **Q5.** You are given two integer arrays nums1 and nums2, sorted in non-decreasing order, and two integers m and n, representing the number of elements in nums1 and nums2 respectively.\n",
        "\n",
        "Merge nums1 and nums2 into a single array sorted in non-decreasing order.\n",
        "\n",
        "The final sorted array should not be returned by the function, but instead be stored inside the array nums1. To accommodate this, nums1 has a length of m + n, where the first m elements denote the elements that should be merged, and the last n elements are set to 0 and should be ignored. nums2 has a length of n.\n",
        "\n",
        "**Example 1:**\n",
        "Input: nums1 = [1,2,3,0,0,0], m = 3, nums2 = [2,5,6], n = 3\n",
        "Output: [1,2,2,3,5,6]\n",
        "\n",
        "**Explanation:** The arrays we are merging are [1,2,3] and [2,5,6].\n",
        "The result of the merge is [1,2,2,3,5,6] with the underlined elements coming from nums1.\n",
        "\n"
      ]
    },
    {
      "cell_type": "code",
      "execution_count": null,
      "id": "d22c8ac0",
      "metadata": {
        "id": "d22c8ac0",
        "outputId": "da944112-ce71-4d59-baf9-f9853c0af917"
      },
      "outputs": [
        {
          "name": "stdout",
          "output_type": "stream",
          "text": [
            "Result: [1, 2, 2, 3, 5, 6]\n"
          ]
        }
      ],
      "source": [
        "def merge(nums1, m, nums2, n):\n",
        "    p1 = m - 1\n",
        "    p2 = n - 1\n",
        "    p = m + n - 1\n",
        "\n",
        "    while p1 >= 0 and p2 >= 0:\n",
        "        if nums1[p1] > nums2[p2]:\n",
        "            nums1[p] = nums1[p1]\n",
        "            p1 -= 1\n",
        "        else:\n",
        "            nums1[p] = nums2[p2]\n",
        "            p2 -= 1\n",
        "        p -= 1\n",
        "\n",
        "    if p2 >= 0:\n",
        "        nums1[:p2 + 1] = nums2[:p2 + 1]\n",
        "\n",
        "    return nums1\n",
        "\n",
        "\n",
        "nums1 = [1, 2, 3, 0, 0, 0]\n",
        "m = 3\n",
        "nums2 = [2, 5, 6]\n",
        "n = 3\n",
        "result = merge(nums1, m, nums2, n)\n",
        "print(\"Result:\", result)"
      ]
    },
    {
      "cell_type": "markdown",
      "id": "08925112",
      "metadata": {
        "id": "08925112"
      },
      "source": [
        " **Q6.** Given an integer array nums, return true if any value appears at least twice in the array, and return false if every element is distinct.\n",
        "\n",
        "**Example 1:**\n",
        "Input: nums = [1,2,3,1]\n",
        "\n",
        "Output: true\n"
      ]
    },
    {
      "cell_type": "code",
      "execution_count": null,
      "id": "1fae927d",
      "metadata": {
        "id": "1fae927d",
        "outputId": "4beb8004-6f16-4c1b-dc86-519f0fbdcc0f"
      },
      "outputs": [
        {
          "name": "stdout",
          "output_type": "stream",
          "text": [
            "Result: True\n"
          ]
        }
      ],
      "source": [
        "def containsDuplicate(nums):\n",
        "    num_set = set()\n",
        "\n",
        "    for num in nums:\n",
        "        if num in num_set:\n",
        "            return True\n",
        "        num_set.add(num)\n",
        "\n",
        "    return False\n",
        "\n",
        "nums = [1, 2, 3, 1]\n",
        "result = containsDuplicate(nums)\n",
        "print(\"Result:\", result)"
      ]
    },
    {
      "cell_type": "markdown",
      "id": "ddfe7b86",
      "metadata": {
        "id": "ddfe7b86"
      },
      "source": [
        " **Q7.** Given an integer array nums, move all 0's to the end of it while maintaining the relative order of the nonzero elements.\n",
        "\n",
        "Note that you must do this in-place without making a copy of the array.\n",
        "\n",
        "**Example 1:**\n",
        "Input: nums = [0,1,0,3,12]\n",
        "Output: [1,3,12,0,0]\n"
      ]
    },
    {
      "cell_type": "code",
      "execution_count": null,
      "id": "21f65e00",
      "metadata": {
        "id": "21f65e00",
        "outputId": "64dfda20-cdbf-44ad-dd5f-a21a9271fb82"
      },
      "outputs": [
        {
          "name": "stdout",
          "output_type": "stream",
          "text": [
            "Result: [1, 3, 12, 0, 0]\n"
          ]
        }
      ],
      "source": [
        "def moveZeroes(nums):\n",
        "    left = 0\n",
        "\n",
        "    for i in range(len(nums)):\n",
        "        if nums[i] != 0:\n",
        "            nums[left] = nums[i]\n",
        "            left += 1\n",
        "\n",
        "    for i in range(left, len(nums)):\n",
        "        nums[i] = 0\n",
        "\n",
        "    return nums\n",
        "\n",
        "nums = [0, 1, 0, 3, 12]\n",
        "result = moveZeroes(nums)\n",
        "print(\"Result:\", result)"
      ]
    },
    {
      "cell_type": "markdown",
      "id": "356f8f86",
      "metadata": {
        "id": "356f8f86"
      },
      "source": [
        "**Q8.** You have a set of integers s, which originally contains all the numbers from 1 to n. Unfortunately, due to some error, one of the numbers in s got duplicated to another number in the set, which results in repetition of one number and loss of another number.\n",
        "\n",
        "You are given an integer array nums representing the data status of this set after the error.\n",
        "\n",
        "Find the number that occurs twice and the number that is missing and return them in the form of an array.\n",
        "\n",
        "**Example 1:**\n",
        "Input: nums = [1,2,2,4]\n",
        "Output: [2,3]\n"
      ]
    },
    {
      "cell_type": "code",
      "execution_count": null,
      "id": "d4857b80",
      "metadata": {
        "id": "d4857b80",
        "outputId": "0e35836d-31d0-42ba-9f54-f60705bc850f"
      },
      "outputs": [
        {
          "name": "stdout",
          "output_type": "stream",
          "text": [
            "Result: [2, 3]\n"
          ]
        }
      ],
      "source": [
        "def findErrorNums(nums):\n",
        "    numSet = set()\n",
        "    duplicate = 0\n",
        "    missing = 0\n",
        "\n",
        "    for num in nums:\n",
        "        if num in numSet:\n",
        "            duplicate = num\n",
        "        numSet.add(num)\n",
        "\n",
        "    for i in range(1, len(nums) + 1):\n",
        "        if i not in numSet:\n",
        "            missing = i\n",
        "\n",
        "    return [duplicate, missing]\n",
        "\n",
        "\n",
        "nums = [1, 2, 2, 4]\n",
        "result = findErrorNums(nums)\n",
        "print(\"Result:\", result)"
      ]
    },
    {
      "cell_type": "code",
      "execution_count": null,
      "id": "20f86392",
      "metadata": {
        "id": "20f86392"
      },
      "outputs": [],
      "source": []
    }
  ],
  "metadata": {
    "kernelspec": {
      "display_name": "Python 3 (ipykernel)",
      "language": "python",
      "name": "python3"
    },
    "language_info": {
      "codemirror_mode": {
        "name": "ipython",
        "version": 3
      },
      "file_extension": ".py",
      "mimetype": "text/x-python",
      "name": "python",
      "nbconvert_exporter": "python",
      "pygments_lexer": "ipython3",
      "version": "3.10.9"
    },
    "colab": {
      "provenance": []
    }
  },
  "nbformat": 4,
  "nbformat_minor": 5
}